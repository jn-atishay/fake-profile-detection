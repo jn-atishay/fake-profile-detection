{
  "cells": [
    {
      "attachments": {},
      "cell_type": "markdown",
      "metadata": {
        "id": "28nMCaN-lHnx"
      },
      "source": [
        "# Setup"
      ]
    },
    {
      "attachments": {},
      "cell_type": "markdown",
      "metadata": {
        "id": "HyLVyiSAja6y"
      },
      "source": [
        "default version of the CTGAN:\n",
        "https://github.com/sdv-dev/CTGAN\n",
        "\n",
        "We also need to install table evaluator to evaluate the quality of the generated synthetic data."
      ]
    },
    {
      "cell_type": "code",
      "execution_count": 6,
      "metadata": {
        "colab": {
          "base_uri": "https://localhost:8080/"
        },
        "id": "78nuRKAZjMLK",
        "outputId": "6f109cd4-e21d-40d3-b070-b557aedf03d7"
      },
      "outputs": [
        {
          "name": "stdout",
          "output_type": "stream",
          "text": [
            "Requirement already satisfied: ctgan in /opt/anaconda3/lib/python3.11/site-packages (0.10.0)\n",
            "Requirement already satisfied: tqdm<5,>=4.29 in /opt/anaconda3/lib/python3.11/site-packages (from ctgan) (4.65.0)\n",
            "Requirement already satisfied: rdt>=1.11.0 in /opt/anaconda3/lib/python3.11/site-packages (from ctgan) (1.12.0)\n",
            "Requirement already satisfied: numpy<2,>=1.23.3 in /opt/anaconda3/lib/python3.11/site-packages (from ctgan) (1.26.4)\n",
            "Requirement already satisfied: pandas>=1.5.0 in /opt/anaconda3/lib/python3.11/site-packages (from ctgan) (2.0.3)\n",
            "Requirement already satisfied: torch>=2.0.0 in /opt/anaconda3/lib/python3.11/site-packages (from ctgan) (2.3.0)\n",
            "Requirement already satisfied: python-dateutil>=2.8.2 in /opt/anaconda3/lib/python3.11/site-packages (from pandas>=1.5.0->ctgan) (2.8.2)\n",
            "Requirement already satisfied: pytz>=2020.1 in /opt/anaconda3/lib/python3.11/site-packages (from pandas>=1.5.0->ctgan) (2023.3.post1)\n",
            "Requirement already satisfied: tzdata>=2022.1 in /opt/anaconda3/lib/python3.11/site-packages (from pandas>=1.5.0->ctgan) (2023.3)\n",
            "Requirement already satisfied: Faker>=17 in /opt/anaconda3/lib/python3.11/site-packages (from rdt>=1.11.0->ctgan) (25.0.1)\n",
            "Requirement already satisfied: scipy>=1.9.2 in /opt/anaconda3/lib/python3.11/site-packages (from rdt>=1.11.0->ctgan) (1.11.4)\n",
            "Requirement already satisfied: scikit-learn>=1.1.3 in /opt/anaconda3/lib/python3.11/site-packages (from rdt>=1.11.0->ctgan) (1.2.2)\n",
            "Requirement already satisfied: filelock in /opt/anaconda3/lib/python3.11/site-packages (from torch>=2.0.0->ctgan) (3.13.1)\n",
            "Requirement already satisfied: typing-extensions>=4.8.0 in /opt/anaconda3/lib/python3.11/site-packages (from torch>=2.0.0->ctgan) (4.9.0)\n",
            "Requirement already satisfied: sympy in /opt/anaconda3/lib/python3.11/site-packages (from torch>=2.0.0->ctgan) (1.12)\n",
            "Requirement already satisfied: networkx in /opt/anaconda3/lib/python3.11/site-packages (from torch>=2.0.0->ctgan) (3.1)\n",
            "Requirement already satisfied: jinja2 in /opt/anaconda3/lib/python3.11/site-packages (from torch>=2.0.0->ctgan) (3.1.3)\n",
            "Requirement already satisfied: fsspec in /opt/anaconda3/lib/python3.11/site-packages (from torch>=2.0.0->ctgan) (2023.10.0)\n",
            "Requirement already satisfied: six>=1.5 in /opt/anaconda3/lib/python3.11/site-packages (from python-dateutil>=2.8.2->pandas>=1.5.0->ctgan) (1.16.0)\n",
            "Requirement already satisfied: joblib>=1.1.1 in /opt/anaconda3/lib/python3.11/site-packages (from scikit-learn>=1.1.3->rdt>=1.11.0->ctgan) (1.2.0)\n",
            "Requirement already satisfied: threadpoolctl>=2.0.0 in /opt/anaconda3/lib/python3.11/site-packages (from scikit-learn>=1.1.3->rdt>=1.11.0->ctgan) (2.2.0)\n",
            "Requirement already satisfied: MarkupSafe>=2.0 in /opt/anaconda3/lib/python3.11/site-packages (from jinja2->torch>=2.0.0->ctgan) (2.1.3)\n",
            "Requirement already satisfied: mpmath>=0.19 in /opt/anaconda3/lib/python3.11/site-packages (from sympy->torch>=2.0.0->ctgan) (1.3.0)\n",
            "Requirement already satisfied: table_evaluator in /opt/anaconda3/lib/python3.11/site-packages (1.6.1)\n",
            "Requirement already satisfied: pandas==2.0.* in /opt/anaconda3/lib/python3.11/site-packages (from table_evaluator) (2.0.3)\n",
            "Requirement already satisfied: numpy in /opt/anaconda3/lib/python3.11/site-packages (from table_evaluator) (1.26.4)\n",
            "Requirement already satisfied: tqdm in /opt/anaconda3/lib/python3.11/site-packages (from table_evaluator) (4.65.0)\n",
            "Requirement already satisfied: psutil in /opt/anaconda3/lib/python3.11/site-packages (from table_evaluator) (5.9.8)\n",
            "Requirement already satisfied: dython==0.7.3 in /opt/anaconda3/lib/python3.11/site-packages (from table_evaluator) (0.7.3)\n",
            "Requirement already satisfied: seaborn in /opt/anaconda3/lib/python3.11/site-packages (from table_evaluator) (0.12.2)\n",
            "Requirement already satisfied: matplotlib in /opt/anaconda3/lib/python3.11/site-packages (from table_evaluator) (3.8.0)\n",
            "Requirement already satisfied: scikit-learn in /opt/anaconda3/lib/python3.11/site-packages (from table_evaluator) (1.2.2)\n",
            "Requirement already satisfied: scipy in /opt/anaconda3/lib/python3.11/site-packages (from table_evaluator) (1.11.4)\n",
            "Requirement already satisfied: scikit-plot>=0.3.7 in /opt/anaconda3/lib/python3.11/site-packages (from dython==0.7.3->table_evaluator) (0.3.7)\n",
            "Requirement already satisfied: python-dateutil>=2.8.2 in /opt/anaconda3/lib/python3.11/site-packages (from pandas==2.0.*->table_evaluator) (2.8.2)\n",
            "Requirement already satisfied: pytz>=2020.1 in /opt/anaconda3/lib/python3.11/site-packages (from pandas==2.0.*->table_evaluator) (2023.3.post1)\n",
            "Requirement already satisfied: tzdata>=2022.1 in /opt/anaconda3/lib/python3.11/site-packages (from pandas==2.0.*->table_evaluator) (2023.3)\n",
            "Requirement already satisfied: contourpy>=1.0.1 in /opt/anaconda3/lib/python3.11/site-packages (from matplotlib->table_evaluator) (1.2.0)\n",
            "Requirement already satisfied: cycler>=0.10 in /opt/anaconda3/lib/python3.11/site-packages (from matplotlib->table_evaluator) (0.11.0)\n",
            "Requirement already satisfied: fonttools>=4.22.0 in /opt/anaconda3/lib/python3.11/site-packages (from matplotlib->table_evaluator) (4.25.0)\n",
            "Requirement already satisfied: kiwisolver>=1.0.1 in /opt/anaconda3/lib/python3.11/site-packages (from matplotlib->table_evaluator) (1.4.4)\n",
            "Requirement already satisfied: packaging>=20.0 in /opt/anaconda3/lib/python3.11/site-packages (from matplotlib->table_evaluator) (23.1)\n",
            "Requirement already satisfied: pillow>=6.2.0 in /opt/anaconda3/lib/python3.11/site-packages (from matplotlib->table_evaluator) (10.2.0)\n",
            "Requirement already satisfied: pyparsing>=2.3.1 in /opt/anaconda3/lib/python3.11/site-packages (from matplotlib->table_evaluator) (3.0.9)\n",
            "Requirement already satisfied: joblib>=1.1.1 in /opt/anaconda3/lib/python3.11/site-packages (from scikit-learn->table_evaluator) (1.2.0)\n",
            "Requirement already satisfied: threadpoolctl>=2.0.0 in /opt/anaconda3/lib/python3.11/site-packages (from scikit-learn->table_evaluator) (2.2.0)\n",
            "Requirement already satisfied: six>=1.5 in /opt/anaconda3/lib/python3.11/site-packages (from python-dateutil>=2.8.2->pandas==2.0.*->table_evaluator) (1.16.0)\n"
          ]
        }
      ],
      "source": [
        "!pip install ctgan\n",
        "!pip install table_evaluator\n",
        "#!gdown 1aXARwE-sdNGWc6biq1HCAT6Aak0mbVZZ     Linkedin Dataset"
      ]
    },
    {
      "attachments": {},
      "cell_type": "markdown",
      "metadata": {
        "id": "i7OCSdNokJUB"
      },
      "source": [
        "We use the linkedin Dataset\n"
      ]
    },
    {
      "cell_type": "code",
      "execution_count": 37,
      "metadata": {
        "id": "UZ9MM-vikDb2"
      },
      "outputs": [],
      "source": [
        "import pandas as pd\n",
        "import pickle\n",
        "data = pd.read_pickle(r'/Users/atishayjain/Downloads/LinkedIn_Dataset.pcl')\n",
        "data = data[['Photo','Connections','Followers','Number of Experiences','Number of Languages','Number of Organizations','Number of Activities']]"
      ]
    },
    {
      "cell_type": "code",
      "execution_count": 38,
      "metadata": {
        "colab": {
          "base_uri": "https://localhost:8080/",
          "height": 602
        },
        "id": "bMzopPo0kmIF",
        "outputId": "9a7b9c2d-1853-47f3-abf9-d8ef069ef675"
      },
      "outputs": [
        {
          "data": {
            "text/html": [
              "<div>\n",
              "<style scoped>\n",
              "    .dataframe tbody tr th:only-of-type {\n",
              "        vertical-align: middle;\n",
              "    }\n",
              "\n",
              "    .dataframe tbody tr th {\n",
              "        vertical-align: top;\n",
              "    }\n",
              "\n",
              "    .dataframe thead th {\n",
              "        text-align: right;\n",
              "    }\n",
              "</style>\n",
              "<table border=\"1\" class=\"dataframe\">\n",
              "  <thead>\n",
              "    <tr style=\"text-align: right;\">\n",
              "      <th></th>\n",
              "      <th>Photo</th>\n",
              "      <th>Connections</th>\n",
              "      <th>Followers</th>\n",
              "      <th>Number of Experiences</th>\n",
              "      <th>Number of Languages</th>\n",
              "      <th>Number of Organizations</th>\n",
              "      <th>Number of Activities</th>\n",
              "    </tr>\n",
              "  </thead>\n",
              "  <tbody>\n",
              "    <tr>\n",
              "      <th>0</th>\n",
              "      <td>No</td>\n",
              "      <td>500</td>\n",
              "      <td>717</td>\n",
              "      <td>2</td>\n",
              "      <td>0</td>\n",
              "      <td>0</td>\n",
              "      <td>1</td>\n",
              "    </tr>\n",
              "    <tr>\n",
              "      <th>1</th>\n",
              "      <td>No</td>\n",
              "      <td>500</td>\n",
              "      <td>1340</td>\n",
              "      <td>1</td>\n",
              "      <td>3</td>\n",
              "      <td>0</td>\n",
              "      <td>0</td>\n",
              "    </tr>\n",
              "    <tr>\n",
              "      <th>2</th>\n",
              "      <td>Yes</td>\n",
              "      <td>7</td>\n",
              "      <td>7</td>\n",
              "      <td>2</td>\n",
              "      <td>0</td>\n",
              "      <td>0</td>\n",
              "      <td>0</td>\n",
              "    </tr>\n",
              "    <tr>\n",
              "      <th>3</th>\n",
              "      <td>Yes</td>\n",
              "      <td>0</td>\n",
              "      <td>0</td>\n",
              "      <td>1</td>\n",
              "      <td>0</td>\n",
              "      <td>0</td>\n",
              "      <td>0</td>\n",
              "    </tr>\n",
              "    <tr>\n",
              "      <th>4</th>\n",
              "      <td>Yes</td>\n",
              "      <td>61</td>\n",
              "      <td>61</td>\n",
              "      <td>1</td>\n",
              "      <td>0</td>\n",
              "      <td>0</td>\n",
              "      <td>6</td>\n",
              "    </tr>\n",
              "    <tr>\n",
              "      <th>...</th>\n",
              "      <td>...</td>\n",
              "      <td>...</td>\n",
              "      <td>...</td>\n",
              "      <td>...</td>\n",
              "      <td>...</td>\n",
              "      <td>...</td>\n",
              "      <td>...</td>\n",
              "    </tr>\n",
              "    <tr>\n",
              "      <th>3595</th>\n",
              "      <td>Yes</td>\n",
              "      <td>106</td>\n",
              "      <td>717</td>\n",
              "      <td>3</td>\n",
              "      <td>0</td>\n",
              "      <td>0</td>\n",
              "      <td>4</td>\n",
              "    </tr>\n",
              "    <tr>\n",
              "      <th>3596</th>\n",
              "      <td>Yes</td>\n",
              "      <td>102</td>\n",
              "      <td>6</td>\n",
              "      <td>5</td>\n",
              "      <td>0</td>\n",
              "      <td>0</td>\n",
              "      <td>3</td>\n",
              "    </tr>\n",
              "    <tr>\n",
              "      <th>3597</th>\n",
              "      <td>Yes</td>\n",
              "      <td>435</td>\n",
              "      <td>10</td>\n",
              "      <td>0</td>\n",
              "      <td>0</td>\n",
              "      <td>0</td>\n",
              "      <td>0</td>\n",
              "    </tr>\n",
              "    <tr>\n",
              "      <th>3598</th>\n",
              "      <td>Yes</td>\n",
              "      <td>280</td>\n",
              "      <td>34</td>\n",
              "      <td>1</td>\n",
              "      <td>2</td>\n",
              "      <td>0</td>\n",
              "      <td>4</td>\n",
              "    </tr>\n",
              "    <tr>\n",
              "      <th>3599</th>\n",
              "      <td>No</td>\n",
              "      <td>102</td>\n",
              "      <td>26</td>\n",
              "      <td>5</td>\n",
              "      <td>0</td>\n",
              "      <td>0</td>\n",
              "      <td>10</td>\n",
              "    </tr>\n",
              "  </tbody>\n",
              "</table>\n",
              "<p>3600 rows × 7 columns</p>\n",
              "</div>"
            ],
            "text/plain": [
              "     Photo Connections Followers Number of Experiences Number of Languages  \\\n",
              "0       No         500       717                     2                   0   \n",
              "1       No         500      1340                     1                   3   \n",
              "2      Yes           7         7                     2                   0   \n",
              "3      Yes           0         0                     1                   0   \n",
              "4      Yes          61        61                     1                   0   \n",
              "...    ...         ...       ...                   ...                 ...   \n",
              "3595   Yes         106       717                     3                   0   \n",
              "3596   Yes         102         6                     5                   0   \n",
              "3597   Yes         435        10                     0                   0   \n",
              "3598   Yes         280        34                     1                   2   \n",
              "3599    No         102        26                     5                   0   \n",
              "\n",
              "     Number of Organizations Number of Activities  \n",
              "0                          0                    1  \n",
              "1                          0                    0  \n",
              "2                          0                    0  \n",
              "3                          0                    0  \n",
              "4                          0                    6  \n",
              "...                      ...                  ...  \n",
              "3595                       0                    4  \n",
              "3596                       0                    3  \n",
              "3597                       0                    0  \n",
              "3598                       0                    4  \n",
              "3599                       0                   10  \n",
              "\n",
              "[3600 rows x 7 columns]"
            ]
          },
          "execution_count": 38,
          "metadata": {},
          "output_type": "execute_result"
        }
      ],
      "source": [
        "data"
      ]
    },
    {
      "cell_type": "code",
      "execution_count": null,
      "metadata": {
        "colab": {
          "base_uri": "https://localhost:8080/",
          "height": 430
        },
        "id": "80rfwpHb6KMa",
        "outputId": "9db12117-c170-4f4d-a195-32a39cd26b78"
      },
      "outputs": [
        {
          "data": {
            "image/png": "[encoded data removed]",
            "text/plain": [
              "<Figure size 640x480 with 1 Axes>"
            ]
          },
          "metadata": {},
          "output_type": "display_data"
        }
      ],
      "source": [
        "# @title Photo\n",
        "\n",
        "from matplotlib import pyplot as plt\n",
        "import seaborn as sns\n",
        "data.groupby('Photo').size().plot(kind='barh', color=sns.palettes.mpl_palette('Dark2'))\n",
        "plt.gca().spines[['top', 'right',]].set_visible(False)"
      ]
    },
    {
      "attachments": {},
      "cell_type": "markdown",
      "metadata": {
        "id": "d4WjVK6pkzuJ"
      },
      "source": [
        "Next, we define a list with column names for categorical variables. This list will be passed to the model so that the model can decide how to process these fields."
      ]
    },
    {
      "cell_type": "code",
      "execution_count": 39,
      "metadata": {
        "id": "G9fsH2-gkpfQ"
      },
      "outputs": [],
      "source": [
        "discrete_columns=['Photo']"
      ]
    },
    {
      "attachments": {},
      "cell_type": "markdown",
      "metadata": {
        "id": "Gg7M1vdflM7m"
      },
      "source": [
        "#Model training"
      ]
    },
    {
      "cell_type": "code",
      "execution_count": 40,
      "metadata": {},
      "outputs": [],
      "source": [
        "import pandas as pd\n",
        "\n"
      ]
    },
    {
      "cell_type": "code",
      "execution_count": 41,
      "metadata": {},
      "outputs": [
        {
          "name": "stdout",
          "output_type": "stream",
          "text": [
            "<class 'pandas.core.frame.DataFrame'>\n",
            "RangeIndex: 3600 entries, 0 to 3599\n",
            "Data columns (total 7 columns):\n",
            " #   Column                   Non-Null Count  Dtype \n",
            "---  ------                   --------------  ----- \n",
            " 0   Photo                    3600 non-null   object\n",
            " 1   Connections              3600 non-null   object\n",
            " 2   Followers                3600 non-null   object\n",
            " 3   Number of Experiences    3600 non-null   object\n",
            " 4   Number of Languages      3600 non-null   object\n",
            " 5   Number of Organizations  3600 non-null   object\n",
            " 6   Number of Activities     3600 non-null   object\n",
            "dtypes: object(7)\n",
            "memory usage: 197.0+ KB\n",
            "None\n"
          ]
        }
      ],
      "source": [
        "print(data.info())\n"
      ]
    },
    {
      "cell_type": "code",
      "execution_count": 42,
      "metadata": {},
      "outputs": [
        {
          "name": "stderr",
          "output_type": "stream",
          "text": [
            "Gen. (-2.09) | Discrim. (-0.13): 100%|██████████| 200/200 [00:35<00:00,  5.64it/s]\n"
          ]
        }
      ],
      "source": [
        "from ctgan import CTGAN\n",
        "\n",
        "# Instantiate and train the CTGAN model\n",
        "ctgan = CTGAN(verbose=True)  \n",
        "ctgan.fit(data, discrete_columns, epochs=200)"
      ]
    },
    {
      "attachments": {},
      "cell_type": "markdown",
      "metadata": {
        "id": "y5lFTO-8lT9U"
      },
      "source": [
        "Next, we simply define an instance of CTGANSynthesizer and call the fit method with the dataframe and the list of categorical variables.\n",
        "\n",
        "We train the model for 300 epochs only as the discriminator and generator loss becomes quite low after these many epochs."
      ]
    },
    {
      "attachments": {},
      "cell_type": "markdown",
      "metadata": {
        "id": "SXJ80rc5UisI"
      },
      "source": [
        "#Synthetic data generation"
      ]
    },
    {
      "cell_type": "code",
      "execution_count": 43,
      "metadata": {
        "id": "7YQI8XdXUmO7"
      },
      "outputs": [
        {
          "data": {
            "text/html": [
              "<div>\n",
              "<style scoped>\n",
              "    .dataframe tbody tr th:only-of-type {\n",
              "        vertical-align: middle;\n",
              "    }\n",
              "\n",
              "    .dataframe tbody tr th {\n",
              "        vertical-align: top;\n",
              "    }\n",
              "\n",
              "    .dataframe thead th {\n",
              "        text-align: right;\n",
              "    }\n",
              "</style>\n",
              "<table border=\"1\" class=\"dataframe\">\n",
              "  <thead>\n",
              "    <tr style=\"text-align: right;\">\n",
              "      <th></th>\n",
              "      <th>Photo</th>\n",
              "      <th>Connections</th>\n",
              "      <th>Followers</th>\n",
              "      <th>Number of Experiences</th>\n",
              "      <th>Number of Languages</th>\n",
              "      <th>Number of Organizations</th>\n",
              "      <th>Number of Activities</th>\n",
              "    </tr>\n",
              "  </thead>\n",
              "  <tbody>\n",
              "    <tr>\n",
              "      <th>0</th>\n",
              "      <td>Yes</td>\n",
              "      <td>504</td>\n",
              "      <td>9880</td>\n",
              "      <td>3</td>\n",
              "      <td>0</td>\n",
              "      <td>1</td>\n",
              "      <td>1</td>\n",
              "    </tr>\n",
              "    <tr>\n",
              "      <th>1</th>\n",
              "      <td>No</td>\n",
              "      <td>502</td>\n",
              "      <td>1420</td>\n",
              "      <td>7</td>\n",
              "      <td>0</td>\n",
              "      <td>0</td>\n",
              "      <td>5</td>\n",
              "    </tr>\n",
              "    <tr>\n",
              "      <th>2</th>\n",
              "      <td>Yes</td>\n",
              "      <td>504</td>\n",
              "      <td>-3213</td>\n",
              "      <td>5</td>\n",
              "      <td>2</td>\n",
              "      <td>0</td>\n",
              "      <td>5</td>\n",
              "    </tr>\n",
              "    <tr>\n",
              "      <th>3</th>\n",
              "      <td>Yes</td>\n",
              "      <td>501</td>\n",
              "      <td>10225</td>\n",
              "      <td>2</td>\n",
              "      <td>0</td>\n",
              "      <td>0</td>\n",
              "      <td>8</td>\n",
              "    </tr>\n",
              "    <tr>\n",
              "      <th>4</th>\n",
              "      <td>No</td>\n",
              "      <td>498</td>\n",
              "      <td>1960</td>\n",
              "      <td>5</td>\n",
              "      <td>0</td>\n",
              "      <td>3</td>\n",
              "      <td>0</td>\n",
              "    </tr>\n",
              "    <tr>\n",
              "      <th>...</th>\n",
              "      <td>...</td>\n",
              "      <td>...</td>\n",
              "      <td>...</td>\n",
              "      <td>...</td>\n",
              "      <td>...</td>\n",
              "      <td>...</td>\n",
              "      <td>...</td>\n",
              "    </tr>\n",
              "    <tr>\n",
              "      <th>3595</th>\n",
              "      <td>Yes</td>\n",
              "      <td>505</td>\n",
              "      <td>-3450</td>\n",
              "      <td>4</td>\n",
              "      <td>0</td>\n",
              "      <td>0</td>\n",
              "      <td>7</td>\n",
              "    </tr>\n",
              "    <tr>\n",
              "      <th>3596</th>\n",
              "      <td>No</td>\n",
              "      <td>501</td>\n",
              "      <td>-1780</td>\n",
              "      <td>7</td>\n",
              "      <td>0</td>\n",
              "      <td>2</td>\n",
              "      <td>25</td>\n",
              "    </tr>\n",
              "    <tr>\n",
              "      <th>3597</th>\n",
              "      <td>Yes</td>\n",
              "      <td>497</td>\n",
              "      <td>901</td>\n",
              "      <td>4</td>\n",
              "      <td>0</td>\n",
              "      <td>0</td>\n",
              "      <td>10</td>\n",
              "    </tr>\n",
              "    <tr>\n",
              "      <th>3598</th>\n",
              "      <td>Yes</td>\n",
              "      <td>497</td>\n",
              "      <td>3804</td>\n",
              "      <td>2</td>\n",
              "      <td>0</td>\n",
              "      <td>0</td>\n",
              "      <td>11</td>\n",
              "    </tr>\n",
              "    <tr>\n",
              "      <th>3599</th>\n",
              "      <td>Yes</td>\n",
              "      <td>508</td>\n",
              "      <td>-3542</td>\n",
              "      <td>8</td>\n",
              "      <td>0</td>\n",
              "      <td>0</td>\n",
              "      <td>9</td>\n",
              "    </tr>\n",
              "  </tbody>\n",
              "</table>\n",
              "<p>3600 rows × 7 columns</p>\n",
              "</div>"
            ],
            "text/plain": [
              "     Photo  Connections  Followers  Number of Experiences  \\\n",
              "0      Yes          504       9880                      3   \n",
              "1       No          502       1420                      7   \n",
              "2      Yes          504      -3213                      5   \n",
              "3      Yes          501      10225                      2   \n",
              "4       No          498       1960                      5   \n",
              "...    ...          ...        ...                    ...   \n",
              "3595   Yes          505      -3450                      4   \n",
              "3596    No          501      -1780                      7   \n",
              "3597   Yes          497        901                      4   \n",
              "3598   Yes          497       3804                      2   \n",
              "3599   Yes          508      -3542                      8   \n",
              "\n",
              "      Number of Languages  Number of Organizations  Number of Activities  \n",
              "0                       0                        1                     1  \n",
              "1                       0                        0                     5  \n",
              "2                       2                        0                     5  \n",
              "3                       0                        0                     8  \n",
              "4                       0                        3                     0  \n",
              "...                   ...                      ...                   ...  \n",
              "3595                    0                        0                     7  \n",
              "3596                    0                        2                    25  \n",
              "3597                    0                        0                    10  \n",
              "3598                    0                        0                    11  \n",
              "3599                    0                        0                     9  \n",
              "\n",
              "[3600 rows x 7 columns]"
            ]
          },
          "execution_count": 43,
          "metadata": {},
          "output_type": "execute_result"
        }
      ],
      "source": [
        "samples = ctgan.sample(3600)\n",
        "samples"
      ]
    },
    {
      "cell_type": "code",
      "execution_count": null,
      "metadata": {
        "id": "VgS2-DGg8IOa"
      },
      "outputs": [],
      "source": []
    },
    {
      "attachments": {},
      "cell_type": "markdown",
      "metadata": {
        "id": "5dLZQ6ABU6Pp"
      },
      "source": [
        "#Evaluation"
      ]
    },
    {
      "cell_type": "code",
      "execution_count": 48,
      "metadata": {},
      "outputs": [
        {
          "name": "stdout",
          "output_type": "stream",
          "text": [
            "Collecting table_evaluator\n",
            "  Using cached table_evaluator-1.6.1-py3-none-any.whl.metadata (8.8 kB)\n",
            "Requirement already satisfied: pandas==2.0.* in /Library/Frameworks/Python.framework/Versions/3.11/lib/python3.11/site-packages (from table_evaluator) (2.0.3)\n",
            "Requirement already satisfied: numpy in /Library/Frameworks/Python.framework/Versions/3.11/lib/python3.11/site-packages (from table_evaluator) (1.25.0)\n",
            "Requirement already satisfied: tqdm in /Library/Frameworks/Python.framework/Versions/3.11/lib/python3.11/site-packages (from table_evaluator) (4.65.0)\n",
            "Requirement already satisfied: psutil in /Library/Frameworks/Python.framework/Versions/3.11/lib/python3.11/site-packages (from table_evaluator) (5.9.6)\n",
            "Collecting dython==0.7.3 (from table_evaluator)\n",
            "  Using cached dython-0.7.3-py3-none-any.whl.metadata (3.0 kB)\n",
            "Collecting seaborn (from table_evaluator)\n",
            "  Downloading seaborn-0.13.2-py3-none-any.whl.metadata (5.4 kB)\n",
            "Requirement already satisfied: matplotlib in /Library/Frameworks/Python.framework/Versions/3.11/lib/python3.11/site-packages (from table_evaluator) (3.7.1)\n",
            "Requirement already satisfied: scikit-learn in /Library/Frameworks/Python.framework/Versions/3.11/lib/python3.11/site-packages (from table_evaluator) (1.2.2)\n",
            "Requirement already satisfied: scipy in /Library/Frameworks/Python.framework/Versions/3.11/lib/python3.11/site-packages (from table_evaluator) (1.10.1)\n",
            "Collecting scikit-plot>=0.3.7 (from dython==0.7.3->table_evaluator)\n",
            "  Using cached scikit_plot-0.3.7-py3-none-any.whl.metadata (7.1 kB)\n",
            "Requirement already satisfied: python-dateutil>=2.8.2 in /Library/Frameworks/Python.framework/Versions/3.11/lib/python3.11/site-packages (from pandas==2.0.*->table_evaluator) (2.8.2)\n",
            "Requirement already satisfied: pytz>=2020.1 in /Library/Frameworks/Python.framework/Versions/3.11/lib/python3.11/site-packages (from pandas==2.0.*->table_evaluator) (2023.3)\n",
            "Requirement already satisfied: tzdata>=2022.1 in /Library/Frameworks/Python.framework/Versions/3.11/lib/python3.11/site-packages (from pandas==2.0.*->table_evaluator) (2023.3)\n",
            "Requirement already satisfied: contourpy>=1.0.1 in /Library/Frameworks/Python.framework/Versions/3.11/lib/python3.11/site-packages (from matplotlib->table_evaluator) (1.1.0)\n",
            "Requirement already satisfied: cycler>=0.10 in /Library/Frameworks/Python.framework/Versions/3.11/lib/python3.11/site-packages (from matplotlib->table_evaluator) (0.11.0)\n",
            "Requirement already satisfied: fonttools>=4.22.0 in /Library/Frameworks/Python.framework/Versions/3.11/lib/python3.11/site-packages (from matplotlib->table_evaluator) (4.40.0)\n",
            "Requirement already satisfied: kiwisolver>=1.0.1 in /Library/Frameworks/Python.framework/Versions/3.11/lib/python3.11/site-packages (from matplotlib->table_evaluator) (1.4.4)\n",
            "Requirement already satisfied: packaging>=20.0 in /Library/Frameworks/Python.framework/Versions/3.11/lib/python3.11/site-packages (from matplotlib->table_evaluator) (23.1)\n",
            "Requirement already satisfied: pillow>=6.2.0 in /Library/Frameworks/Python.framework/Versions/3.11/lib/python3.11/site-packages (from matplotlib->table_evaluator) (9.5.0)\n",
            "Requirement already satisfied: pyparsing>=2.3.1 in /Library/Frameworks/Python.framework/Versions/3.11/lib/python3.11/site-packages (from matplotlib->table_evaluator) (3.1.0)\n",
            "Requirement already satisfied: joblib>=1.1.1 in /Library/Frameworks/Python.framework/Versions/3.11/lib/python3.11/site-packages (from scikit-learn->table_evaluator) (1.2.0)\n",
            "Requirement already satisfied: threadpoolctl>=2.0.0 in /Library/Frameworks/Python.framework/Versions/3.11/lib/python3.11/site-packages (from scikit-learn->table_evaluator) (3.1.0)\n",
            "Requirement already satisfied: six>=1.5 in /Library/Frameworks/Python.framework/Versions/3.11/lib/python3.11/site-packages (from python-dateutil>=2.8.2->pandas==2.0.*->table_evaluator) (1.16.0)\n",
            "Using cached table_evaluator-1.6.1-py3-none-any.whl (22 kB)\n",
            "Using cached dython-0.7.3-py3-none-any.whl (23 kB)\n",
            "Downloading seaborn-0.13.2-py3-none-any.whl (294 kB)\n",
            "\u001b[2K   \u001b[90m━━━━━━━━━━━━━━━━━━━━━━━━━━━━━━━━━━━━━━━━\u001b[0m \u001b[32m294.9/294.9 kB\u001b[0m \u001b[31m2.0 MB/s\u001b[0m eta \u001b[36m0:00:00\u001b[0ma \u001b[36m0:00:01\u001b[0m\n",
            "\u001b[?25hUsing cached scikit_plot-0.3.7-py3-none-any.whl (33 kB)\n",
            "Installing collected packages: seaborn, scikit-plot, dython, table_evaluator\n",
            "Successfully installed dython-0.7.3 scikit-plot-0.3.7 seaborn-0.13.2 table_evaluator-1.6.1\n",
            "Note: you may need to restart the kernel to use updated packages.\n"
          ]
        }
      ],
      "source": [
        "pip install table_evaluator"
      ]
    },
    {
      "cell_type": "code",
      "execution_count": 49,
      "metadata": {
        "colab": {
          "base_uri": "https://localhost:8080/",
          "height": 531
        },
        "id": "0NP96LwnYVU6",
        "outputId": "ada104b9-b992-4597-fa00-bc1d8f5d499f"
      },
      "outputs": [
        {
          "name": "stdout",
          "output_type": "stream",
          "text": [
            "(3600, 7) (3600, 7)\n",
            "Failed to visually evaluate the data: name 'categorical_features' is not defined\n"
          ]
        }
      ],
      "source": [
        "from table_evaluator import TableEvaluator\n",
        "\n",
        "try:\n",
        "    print(data.shape, samples.shape)\n",
        "    table_evaluator = TableEvaluator(data, samples, cat_cols=categorical_features)\n",
        "    table_evaluator.visual_evaluation()\n",
        "except Exception as e:\n",
        "    print(\"Failed to visually evaluate the data:\", str(e))\n"
      ]
    },
    {
      "cell_type": "code",
      "execution_count": 51,
      "metadata": {
        "colab": {
          "base_uri": "https://localhost:8080/",
          "height": 825
        },
        "id": "xRDdzbtPU8Dv",
        "outputId": "80bd44de-ef88-48a3-f4d4-bab75404544c"
      },
      "outputs": [
        {
          "name": "stdout",
          "output_type": "stream",
          "text": [
            "(3600, 7) (3600, 7)\n"
          ]
        },
        {
          "ename": "ValueError",
          "evalue": "min() arg is an empty sequence",
          "output_type": "error",
          "traceback": [
            "\u001b[0;31m---------------------------------------------------------------------------\u001b[0m",
            "\u001b[0;31mValueError\u001b[0m                                Traceback (most recent call last)",
            "Cell \u001b[0;32mIn[51], line 6\u001b[0m\n\u001b[1;32m      4\u001b[0m table_evaluator \u001b[39m=\u001b[39m  TableEvaluator(data, samples, cat_cols\u001b[39m=\u001b[39m discrete_columns)\n\u001b[1;32m      5\u001b[0m \u001b[39m#min([], default=\"EMPTY\")\u001b[39;00m\n\u001b[0;32m----> 6\u001b[0m table_evaluator\u001b[39m.\u001b[39;49mvisual_evaluation()\n",
            "File \u001b[0;32m/Library/Frameworks/Python.framework/Versions/3.11/lib/python3.11/site-packages/table_evaluator/table_evaluator.py:380\u001b[0m, in \u001b[0;36mTableEvaluator.visual_evaluation\u001b[0;34m(self, save_dir, **kwargs)\u001b[0m\n\u001b[1;32m    374\u001b[0m \u001b[39m\u001b[39m\u001b[39m\"\"\"\u001b[39;00m\n\u001b[1;32m    375\u001b[0m \u001b[39mPlot all visual evaluation metrics. Includes plotting the mean and standard deviation, cumulative sums, correlation differences and the PCA transform.\u001b[39;00m\n\u001b[1;32m    376\u001b[0m \u001b[39m:save_dir: directory path to save images\u001b[39;00m\n\u001b[1;32m    377\u001b[0m \u001b[39m:param kwargs: any kwargs for matplotlib.\u001b[39;00m\n\u001b[1;32m    378\u001b[0m \u001b[39m\"\"\"\u001b[39;00m\n\u001b[1;32m    379\u001b[0m \u001b[39mif\u001b[39;00m save_dir \u001b[39mis\u001b[39;00m \u001b[39mNone\u001b[39;00m:\n\u001b[0;32m--> 380\u001b[0m     \u001b[39mself\u001b[39;49m\u001b[39m.\u001b[39;49mplot_mean_std()\n\u001b[1;32m    381\u001b[0m     \u001b[39mself\u001b[39m\u001b[39m.\u001b[39mplot_cumsums()\n\u001b[1;32m    382\u001b[0m     \u001b[39mself\u001b[39m\u001b[39m.\u001b[39mplot_distributions()\n",
            "File \u001b[0;32m/Library/Frameworks/Python.framework/Versions/3.11/lib/python3.11/site-packages/table_evaluator/table_evaluator.py:99\u001b[0m, in \u001b[0;36mTableEvaluator.plot_mean_std\u001b[0;34m(self, fname)\u001b[0m\n\u001b[1;32m     94\u001b[0m \u001b[39mdef\u001b[39;00m \u001b[39mplot_mean_std\u001b[39m(\u001b[39mself\u001b[39m, fname\u001b[39m=\u001b[39m\u001b[39mNone\u001b[39;00m):\n\u001b[1;32m     95\u001b[0m \u001b[39m    \u001b[39m\u001b[39m\"\"\"\u001b[39;00m\n\u001b[1;32m     96\u001b[0m \u001b[39m    Class wrapper function for plotting the mean and std using `viz.plot_mean_std`.\u001b[39;00m\n\u001b[1;32m     97\u001b[0m \u001b[39m    :param fname: If not none, saves the plot with this file name.\u001b[39;00m\n\u001b[1;32m     98\u001b[0m \u001b[39m    \"\"\"\u001b[39;00m\n\u001b[0;32m---> 99\u001b[0m     plot_mean_std(\u001b[39mself\u001b[39;49m\u001b[39m.\u001b[39;49mreal, \u001b[39mself\u001b[39;49m\u001b[39m.\u001b[39;49mfake, fname\u001b[39m=\u001b[39;49mfname)\n",
            "File \u001b[0;32m/Library/Frameworks/Python.framework/Versions/3.11/lib/python3.11/site-packages/table_evaluator/viz.py:218\u001b[0m, in \u001b[0;36mplot_mean_std\u001b[0;34m(real, fake, ax, fname)\u001b[0m\n\u001b[1;32m    216\u001b[0m real_mean \u001b[39m=\u001b[39m np\u001b[39m.\u001b[39mlog(np\u001b[39m.\u001b[39madd(\u001b[39mabs\u001b[39m(real\u001b[39m.\u001b[39mmean())\u001b[39m.\u001b[39mvalues, \u001b[39m1e-5\u001b[39m))\n\u001b[1;32m    217\u001b[0m fake_mean \u001b[39m=\u001b[39m np\u001b[39m.\u001b[39mlog(np\u001b[39m.\u001b[39madd(\u001b[39mabs\u001b[39m(fake\u001b[39m.\u001b[39mmean())\u001b[39m.\u001b[39mvalues, \u001b[39m1e-5\u001b[39m))\n\u001b[0;32m--> 218\u001b[0m min_mean \u001b[39m=\u001b[39m \u001b[39mmin\u001b[39;49m(real_mean) \u001b[39m-\u001b[39m \u001b[39m1\u001b[39m\n\u001b[1;32m    219\u001b[0m max_mean \u001b[39m=\u001b[39m \u001b[39mmax\u001b[39m(real_mean) \u001b[39m+\u001b[39m \u001b[39m1\u001b[39m\n\u001b[1;32m    220\u001b[0m line \u001b[39m=\u001b[39m np\u001b[39m.\u001b[39marange(min_mean, max_mean)\n",
            "\u001b[0;31mValueError\u001b[0m: min() arg is an empty sequence"
          ]
        },
        {
          "data": {
            "image/png": "[encoded data removed]",
            "text/plain": [
              "<Figure size 1000x500 with 2 Axes>"
            ]
          },
          "metadata": {},
          "output_type": "display_data"
        }
      ],
      "source": [
        "from table_evaluator import TableEvaluator\n",
        "\n",
        "print(data.shape, samples.shape)\n",
        "table_evaluator =  TableEvaluator(data, samples, cat_cols= discrete_columns)\n",
        "#min([], default=\"EMPTY\")\n",
        "table_evaluator.visual_evaluation()"
      ]
    }
  ],
  "metadata": {
    "colab": {
      "provenance": []
    },
    "kernelspec": {
      "display_name": "Python 3",
      "name": "python3"
    },
    "language_info": {
      "codemirror_mode": {
        "name": "ipython",
        "version": 3
      },
      "file_extension": ".py",
      "mimetype": "text/x-python",
      "name": "python",
      "nbconvert_exporter": "python",
      "pygments_lexer": "ipython3",
      "version": "3.11.3"
    }
  },
  "nbformat": 4,
  "nbformat_minor": 0
}
